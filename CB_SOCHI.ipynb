{
 "cells": [
  {
   "cell_type": "code",
   "execution_count": 1,
   "id": "df57d887",
   "metadata": {
    "id": "df57d887"
   },
   "outputs": [],
   "source": [
    "import os\n",
    "import matplotlib.pyplot as plt\n",
    "import random\n",
    "import numpy as np\n",
    "import time\n",
    "import torch\n",
    "import torch.nn as nn\n",
    "import torch.optim as optim\n",
    "from torch.utils.data import Dataset, DataLoader, random_split\n",
    "from torchvision import transforms\n",
    "from tqdm.notebook import tqdm\n",
    "import torchvision.models as models\n",
    "#from lion_pytorch import Lion\n"
   ]
  },
  {
   "cell_type": "code",
   "execution_count": 2,
   "id": "e0bb9283",
   "metadata": {
    "colab": {
     "base_uri": "https://localhost:8080/",
     "height": 36
    },
    "id": "e0bb9283",
    "outputId": "4b7233ba-3b83-421d-aad4-121de8aba13f"
   },
   "outputs": [
    {
     "data": {
      "text/plain": [
       "'cuda'"
      ]
     },
     "execution_count": 2,
     "metadata": {},
     "output_type": "execute_result"
    }
   ],
   "source": [
    "def seed_everything(seed):\n",
    "    random.seed(seed) # фиксируем генератор случайных чисел\n",
    "    #os.environ['PYTHONHASHSEED'] = str(seed) # фиксируем заполнения хешей\n",
    "    np.random.seed(seed) # фиксируем генератор случайных чисел numpy\n",
    "    torch.manual_seed(seed) # фиксируем генератор случайных чисел pytorch\n",
    "    torch.cuda.manual_seed(seed) # фиксируем генератор случайных чисел для GPU\n",
    "    torch.backends.cudnn.benchmark = True #включение cuDNN Autotuner\n",
    "    #отключение отладок\n",
    "    torch.autograd.set_detect_anomaly(False)\n",
    "    torch.autograd.profiler.profile(False)\n",
    "    torch.autograd.profiler.emit_nvtx(False)\n",
    "seed_everything(42)\n",
    "device = f\"cuda\" if torch.cuda.is_available() else \"cpu\"\n",
    "device"
   ]
  },
  {
   "cell_type": "markdown",
   "id": "0182d311",
   "metadata": {
    "id": "0182d311"
   },
   "source": [
    "# Чтение данных"
   ]
  },
  {
   "cell_type": "code",
   "execution_count": 3,
   "id": "TRq1Kp9dpoPf",
   "metadata": {
    "colab": {
     "base_uri": "https://localhost:8080/"
    },
    "id": "TRq1Kp9dpoPf",
    "outputId": "a25ce82e-ed47-47e0-85c8-967cf028cfcb"
   },
   "outputs": [],
   "source": [
    "#!gdown 1pczLG3MVuIErKmT0BVsxwlASScfUCYCw"
   ]
  },
  {
   "cell_type": "code",
   "execution_count": 4,
   "id": "QreJJDFapobl",
   "metadata": {
    "colab": {
     "base_uri": "https://localhost:8080/"
    },
    "id": "QreJJDFapobl",
    "outputId": "0149c11c-2ccb-4aa6-ee0b-96ceb0058199"
   },
   "outputs": [],
   "source": [
    "#!gdown 161zAh0quBSGB9ydnHRFgEUAgSN2esZtn"
   ]
  },
  {
   "cell_type": "code",
   "execution_count": 5,
   "id": "14afe472",
   "metadata": {
    "id": "14afe472"
   },
   "outputs": [],
   "source": [
    "x_data = np.load(r'I:\\Хакатоны\\Цифровой прорыв Сочи\\train_dataset_train\\train\\y_smp_train.npy') #'/content/y_smp_train.npy'"
   ]
  },
  {
   "cell_type": "code",
   "execution_count": 6,
   "id": "49543096",
   "metadata": {
    "colab": {
     "base_uri": "https://localhost:8080/"
    },
    "id": "49543096",
    "outputId": "3020ad2d-aaf5-48fb-ed54-bd55341409f1"
   },
   "outputs": [
    {
     "data": {
      "text/plain": [
       "(1000000, 3, 200)"
      ]
     },
     "execution_count": 6,
     "metadata": {},
     "output_type": "execute_result"
    }
   ],
   "source": [
    "x_data = np.reshape(x_data,(1000000, 3, 200))\n",
    "x_data.shape"
   ]
  },
  {
   "cell_type": "code",
   "execution_count": 32,
   "id": "708808c4",
   "metadata": {},
   "outputs": [
    {
     "data": {
      "image/png": "[encoded data removed]",
      "text/plain": [
       "<Figure size 1000x500 with 3 Axes>"
      ]
     },
     "metadata": {},
     "output_type": "display_data"
    }
   ],
   "source": [
    "# Определение минимума и максимума для каждого канала\n",
    "min_channel_1, max_channel_1 = np.min(x_data [:, 0, :]), np.max(x_data[:, 0, :])\n",
    "min_channel_2, max_channel_2 = np.min(x_data[:, 1, :]), np.max(x_data[:, 1, :])\n",
    "min_channel_3, max_channel_3 = np.min(x_data [:, 2, :]), np.max(x_data [:, 2, :])\n",
    "\n",
    "# Построение гистограммы для каждого канала с указанием промежутка значений\n",
    "plt.figure(figsize=(10, 5))\n",
    "\n",
    "plt.subplot(131)\n",
    "plt.hist(channel_1.flatten(), bins=50, range=(-10, 10), color='blue', alpha=0.7)\n",
    "plt.title('Channel 1')\n",
    "\n",
    "plt.subplot(132)\n",
    "plt.hist(channel_2.flatten(), bins=50, range=(-10, 10), color='green', alpha=0.7)\n",
    "plt.title('Channel 2')\n",
    "\n",
    "plt.subplot(133)\n",
    "plt.hist(channel_3.flatten(), bins=50, range=(-10, 10), color='red', alpha=0.7)\n",
    "plt.title('Channel 3')\n",
    "\n",
    "plt.tight_layout()\n",
    "plt.show()\n"
   ]
  },
  {
   "cell_type": "code",
   "execution_count": 7,
   "id": "bad2237c",
   "metadata": {
    "id": "bad2237c"
   },
   "outputs": [],
   "source": [
    "y_data = np.load(r'I:\\Хакатоны\\Цифровой прорыв Сочи\\train_dataset_train\\train\\pars_smp_train.npy') #'/content/pars_smp_train.npy'"
   ]
  },
  {
   "cell_type": "code",
   "execution_count": 8,
   "id": "741c15d2",
   "metadata": {
    "colab": {
     "base_uri": "https://localhost:8080/"
    },
    "id": "741c15d2",
    "outputId": "a084e9ec-6aac-4813-d4d7-6f6acea73244"
   },
   "outputs": [
    {
     "data": {
      "text/plain": [
       "(1000000, 15)"
      ]
     },
     "execution_count": 8,
     "metadata": {},
     "output_type": "execute_result"
    }
   ],
   "source": [
    "y_data = np.reshape(y_data,(1000000, 15))\n",
    "y_data.shape"
   ]
  },
  {
   "cell_type": "markdown",
   "id": "b13ae49e",
   "metadata": {},
   "source": [
    "## Создание датасета для обучения"
   ]
  },
  {
   "cell_type": "code",
   "execution_count": 9,
   "id": "db8685f4",
   "metadata": {
    "id": "db8685f4"
   },
   "outputs": [],
   "source": [
    "class CustomDataset(Dataset):\n",
    "    def __init__(self, x_data, y_data, transform=None):\n",
    "        self.x_data = x_data\n",
    "        self.y_data = y_data\n",
    "        self.transform = transform\n",
    "\n",
    "    def __len__(self):\n",
    "        return len(self.x_data)\n",
    "\n",
    "    def __getitem__(self, index):\n",
    "        X = self.x_data[index]\n",
    "        y = self.y_data[index]\n",
    "        X = torch.tensor(X, dtype=torch.float32)\n",
    "\n",
    "        # Полный путь к файлу изображения\n",
    "        if self.transform:\n",
    "            X = self.transform(X)\n",
    "        return X, torch.from_numpy(y).to(torch.float32)"
   ]
  },
  {
   "cell_type": "code",
   "execution_count": 156,
   "id": "90ba9169",
   "metadata": {
    "id": "90ba9169"
   },
   "outputs": [],
   "source": [
    "# нормализация данных\n",
    "class Normalize(object):\n",
    "    def __call__(self, sample):\n",
    "        min_val = torch.min(sample)\n",
    "        max_val = torch.max(sample)\n",
    "        normalized = (sample - min_val) / (max_val - min_val + 1e-8)\n",
    "        return torch.log(normalized)\n",
    "\n",
    "    \n",
    "data_transform = transforms.Compose([\n",
    " #   transforms.ToTensor(),\n",
    "    Normalize()\n",
    "])\n",
    "custom_dataset = CustomDataset(x_data, y_data)\n",
    "\n",
    "# Разделение на тренировочный и валидационный наборы с учетом дисбаланса классов\n",
    "validation_split = 0.1\n",
    "dataset_size = len(custom_dataset)\n",
    "validation_size = int(validation_split * dataset_size)\n",
    "train_size = dataset_size - validation_size\n",
    "\n",
    "# Получение индексов для разделения\n",
    "indices = list(range(dataset_size))\n",
    "random.shuffle(indices)  # Перемешиваем индексы перед разделением\n",
    "train_indices, validation_indices = indices[:train_size], indices[train_size:]"
   ]
  },
  {
   "cell_type": "markdown",
   "id": "f6d5c547",
   "metadata": {
    "id": "f6d5c547"
   },
   "source": [
    "## Создание функции обучения"
   ]
  },
  {
   "cell_type": "code",
   "execution_count": 11,
   "id": "de834ad2",
   "metadata": {},
   "outputs": [],
   "source": [
    "# Quantile Loss (полезно в задачах квантильной регрессии\n",
    "def quantile_loss(y_true, y_pred, q=0.5):\n",
    "    e = y_true - y_pred\n",
    "    loss = torch.max((q - 1) * e, q * e)\n",
    "    return loss.mean()"
   ]
  },
  {
   "cell_type": "code",
   "execution_count": 128,
   "id": "12c02c34",
   "metadata": {
    "id": "12c02c34"
   },
   "outputs": [],
   "source": [
    "def train_regression_model(model, num_epochs, train_loader, valid_loader, device, lr):\n",
    "    model = model.to(device)\n",
    "    criterion = nn.MSELoss().to(device)  # Используем MSE для задачи регрессии\n",
    "    #criterion = quantile_loss # Используем MSE для задачи регрессии\n",
    "    optimizer = optim.Adam(model.parameters(), lr=lr, weight_decay=1e-8)\n",
    "    #optimizer = Lion(model.parameters(), lr=1e-3, weight_decay=1e-2)\n",
    "    #optimizer = optim.RAdam(model.parameters(), lr=lr, weight_decay=1e-2)\n",
    "    #optimizer = optim.RAdam(model.parameters(), lr=lr, weight_decay=1e-2)\n",
    "    #optimizer = optim.RMSprop(model.parameters(), lr=lr, weight_decay=1e-2)\n",
    "\n",
    "    for epoch in range(num_epochs):\n",
    "        start_time = time.time()\n",
    "        running_loss = 0.0\n",
    "\n",
    "        model.train()\n",
    "        for inputs, targets in train_loader:\n",
    "            inputs, targets = inputs.to(device), targets.to(device)\n",
    "            optimizer.zero_grad()\n",
    "            outputs = model(inputs)\n",
    "            outputs  = torch.mean(outputs, dim=2)\n",
    "            loss = criterion(outputs, targets)\n",
    "            loss.backward()\n",
    "            optimizer.step()\n",
    "            running_loss += loss.item()\n",
    "\n",
    "        model.eval()\n",
    "        valid_loss = 0.0\n",
    "        total_samples = 0.0\n",
    "        total_rmse = 0.0\n",
    "        total_mape = 0.0\n",
    "\n",
    "        with torch.no_grad():\n",
    "            for inputs, targets in valid_loader:\n",
    "                inputs, targets = inputs.to(device), targets.to(device)\n",
    "                outputs = model(inputs)\n",
    "                outputs  = torch.mean(outputs, dim=2)\n",
    "                loss = criterion(outputs, targets)\n",
    "                valid_loss += loss.item()\n",
    "                total_samples += targets.size(0)\n",
    "               \n",
    "                #  вычисление RMSE\n",
    "                rmse = torch.sqrt(loss)\n",
    "                total_rmse += rmse.item()\n",
    "\n",
    "                # вычисление MAPE\n",
    "                absolute_error = torch.abs(outputs - targets)\n",
    "                mape = torch.mean(absolute_error / targets) * 100\n",
    "                total_mape += mape.item()\n",
    "\n",
    "        epoch_duration = time.time() - start_time\n",
    "\n",
    "        print(f\"Epoch {epoch + 1} | Train_Loss: {running_loss / len(train_loader):.4f} | Valid_Loss: {valid_loss / len(valid_loader):.4f} | RMSE: {total_rmse / len(valid_loader):.4f} | MAPE: {total_mape / len(valid_loader):.4f}% | Time: {epoch_duration:.2f} seconds\")"
   ]
  },
  {
   "cell_type": "markdown",
   "id": "04e566c7",
   "metadata": {
    "id": "04e566c7"
   },
   "source": [
    "## Создание архитектуры нейронной сети"
   ]
  },
  {
   "cell_type": "code",
   "execution_count": 13,
   "id": "bbaae340",
   "metadata": {
    "id": "bbaae340"
   },
   "outputs": [],
   "source": [
    "class Simple(nn.Module):\n",
    "    def __init__(self, params=15):\n",
    "        super(Simple, self).__init__()\n",
    "\n",
    "        # Сверточные слои\n",
    "        self.conv1 = nn.Conv1d(in_channels=3, out_channels=32, kernel_size=3, stride=1, padding=1)\n",
    "        self.conv2 = nn.Conv1d(in_channels=32, out_channels=64, kernel_size=3, stride=1, padding=1)\n",
    "        self.conv3 = nn.Conv1d(in_channels=64, out_channels=128, kernel_size=3, stride=1, padding=1)\n",
    "        \n",
    "        # Нормализация\n",
    "        self.batchnorm = nn.BatchNorm1d(128)\n",
    "        # Дропаут\n",
    "        self.dropout = nn.Dropout(0.5)  # 0.5 - вероятность отключения нейрона\n",
    "        \n",
    "        # Полносвязные слои\n",
    "        self.fc1 = nn.Linear(128*200, 1024)\n",
    "        self.fc2 = nn.Linear(1024, 15*201)  # 15*6 = 90\n",
    "        \n",
    "    def forward(self, x):\n",
    "        # Прямой проход через сверточные слои\n",
    "        x = torch.relu(self.conv1(x))\n",
    "        x = torch.relu(self.conv2(x))\n",
    "        x = torch.relu(self.conv3(x))\n",
    "        \n",
    "        # Нормализация и дропаут\n",
    "        x = self.batchnorm(x)\n",
    "        x = self.dropout(x)\n",
    "        \n",
    "        # Решейп для подачи в полносвязные слои\n",
    "        x = x.view(x.size(0), -1)\n",
    "        \n",
    "        # Прямой проход через полносвязные слои\n",
    "        x = torch.relu(self.fc1(x))\n",
    "        x = self.fc2(x)\n",
    "        \n",
    "        # Решейп обратно к размерности (-1, 15, 6)\n",
    "        x = x.view(-1, 15, 201) #201 Score = 0.674089 model_CNN_CB_4.pth\n",
    "        return x"
   ]
  },
  {
   "cell_type": "markdown",
   "id": "954cb3fb",
   "metadata": {
    "id": "954cb3fb"
   },
   "source": [
    "# Обучени модели"
   ]
  },
  {
   "cell_type": "code",
   "execution_count": 102,
   "id": "z768VAoBsSIH",
   "metadata": {
    "id": "z768VAoBsSIH"
   },
   "outputs": [
    {
     "data": {
      "text/plain": [
       "<All keys matched successfully>"
      ]
     },
     "execution_count": 102,
     "metadata": {},
     "output_type": "execute_result"
    }
   ],
   "source": [
    "# инициализация модели\n",
    "model = Simple()\n",
    "#загрузка весов модели\n",
    "model.load_state_dict(torch.load('model_CNN_CB_5.pth'))\n"
   ]
  },
  {
   "cell_type": "code",
   "execution_count": 157,
   "id": "674a392a",
   "metadata": {
    "id": "674a392a"
   },
   "outputs": [],
   "source": [
    "# Обучение модели\n",
    "num_epochs = 1000\n",
    "lr = 0.0001\n",
    "batch_size = 4096"
   ]
  },
  {
   "cell_type": "code",
   "execution_count": 158,
   "id": "91de0ceb",
   "metadata": {},
   "outputs": [],
   "source": [
    "# Создание DataLoader для тренировочного и валидационного наборов \n",
    "train_loader = DataLoader(custom_dataset, batch_size=batch_size, sampler=train_indices, pin_memory=True)\n",
    "valid_loader = DataLoader(custom_dataset, batch_size=batch_size, sampler=validation_indices, pin_memory=True)"
   ]
  },
  {
   "cell_type": "code",
   "execution_count": null,
   "id": "bf68c3f5",
   "metadata": {
    "colab": {
     "base_uri": "https://localhost:8080/"
    },
    "id": "bf68c3f5",
    "outputId": "cf39f45d-6eec-47eb-aa19-7feb4d35ecc8"
   },
   "outputs": [
    {
     "name": "stdout",
     "output_type": "stream",
     "text": [
      "Epoch 1 | Train_Loss: 0.0175 | Valid_Loss: 0.0113 | RMSE: 0.1064 | MAPE: 16.4046% | Time: 52.79 seconds\n",
      "Epoch 2 | Train_Loss: 0.0172 | Valid_Loss: 0.0113 | RMSE: 0.1063 | MAPE: 16.4042% | Time: 52.95 seconds\n",
      "Epoch 3 | Train_Loss: 0.0171 | Valid_Loss: 0.0117 | RMSE: 0.1083 | MAPE: 16.6026% | Time: 53.40 seconds\n",
      "Epoch 4 | Train_Loss: 0.0170 | Valid_Loss: 0.0117 | RMSE: 0.1080 | MAPE: 16.5676% | Time: 53.16 seconds\n",
      "Epoch 5 | Train_Loss: 0.0168 | Valid_Loss: 0.0124 | RMSE: 0.1112 | MAPE: 16.7374% | Time: 53.30 seconds\n",
      "Epoch 6 | Train_Loss: 0.0167 | Valid_Loss: 0.0122 | RMSE: 0.1105 | MAPE: 16.6683% | Time: 53.23 seconds\n",
      "Epoch 7 | Train_Loss: 0.0166 | Valid_Loss: 0.0122 | RMSE: 0.1106 | MAPE: 16.7734% | Time: 53.22 seconds\n",
      "Epoch 8 | Train_Loss: 0.0166 | Valid_Loss: 0.0125 | RMSE: 0.1120 | MAPE: 16.6888% | Time: 53.70 seconds\n",
      "Epoch 9 | Train_Loss: 0.0165 | Valid_Loss: 0.0123 | RMSE: 0.1108 | MAPE: 16.7170% | Time: 53.73 seconds\n",
      "Epoch 10 | Train_Loss: 0.0164 | Valid_Loss: 0.0127 | RMSE: 0.1125 | MAPE: 16.7193% | Time: 53.68 seconds\n",
      "Epoch 11 | Train_Loss: 0.0163 | Valid_Loss: 0.0129 | RMSE: 0.1135 | MAPE: 16.7648% | Time: 53.57 seconds\n",
      "Epoch 12 | Train_Loss: 0.0163 | Valid_Loss: 0.0132 | RMSE: 0.1148 | MAPE: 16.8955% | Time: 52.80 seconds\n",
      "Epoch 13 | Train_Loss: 0.0162 | Valid_Loss: 0.0130 | RMSE: 0.1139 | MAPE: 16.8066% | Time: 52.84 seconds\n",
      "Epoch 14 | Train_Loss: 0.0162 | Valid_Loss: 0.0134 | RMSE: 0.1156 | MAPE: 16.9653% | Time: 53.19 seconds\n",
      "Epoch 15 | Train_Loss: 0.0161 | Valid_Loss: 0.0132 | RMSE: 0.1150 | MAPE: 16.9774% | Time: 53.49 seconds\n",
      "Epoch 16 | Train_Loss: 0.0161 | Valid_Loss: 0.0136 | RMSE: 0.1165 | MAPE: 16.8291% | Time: 53.73 seconds\n",
      "Epoch 17 | Train_Loss: 0.0161 | Valid_Loss: 0.0138 | RMSE: 0.1174 | MAPE: 16.7599% | Time: 53.21 seconds\n",
      "Epoch 18 | Train_Loss: 0.0160 | Valid_Loss: 0.0138 | RMSE: 0.1174 | MAPE: 16.9523% | Time: 53.62 seconds\n",
      "Epoch 19 | Train_Loss: 0.0160 | Valid_Loss: 0.0140 | RMSE: 0.1182 | MAPE: 16.9054% | Time: 52.72 seconds\n",
      "Epoch 20 | Train_Loss: 0.0160 | Valid_Loss: 0.0141 | RMSE: 0.1186 | MAPE: 16.9448% | Time: 53.16 seconds\n",
      "Epoch 21 | Train_Loss: 0.0159 | Valid_Loss: 0.0145 | RMSE: 0.1203 | MAPE: 16.9095% | Time: 53.34 seconds\n",
      "Epoch 22 | Train_Loss: 0.0159 | Valid_Loss: 0.0142 | RMSE: 0.1193 | MAPE: 17.0062% | Time: 53.13 seconds\n",
      "Epoch 23 | Train_Loss: 0.0159 | Valid_Loss: 0.0145 | RMSE: 0.1204 | MAPE: 17.1046% | Time: 53.27 seconds\n",
      "Epoch 24 | Train_Loss: 0.0158 | Valid_Loss: 0.0146 | RMSE: 0.1208 | MAPE: 16.7776% | Time: 53.99 seconds\n",
      "Epoch 25 | Train_Loss: 0.0158 | Valid_Loss: 0.0150 | RMSE: 0.1224 | MAPE: 16.8673% | Time: 52.92 seconds\n",
      "Epoch 26 | Train_Loss: 0.0158 | Valid_Loss: 0.0152 | RMSE: 0.1234 | MAPE: 17.1756% | Time: 52.75 seconds\n",
      "Epoch 27 | Train_Loss: 0.0158 | Valid_Loss: 0.0152 | RMSE: 0.1234 | MAPE: 17.0272% | Time: 53.60 seconds\n",
      "Epoch 28 | Train_Loss: 0.0157 | Valid_Loss: 0.0154 | RMSE: 0.1242 | MAPE: 17.1649% | Time: 52.81 seconds\n",
      "Epoch 29 | Train_Loss: 0.0157 | Valid_Loss: 0.0152 | RMSE: 0.1231 | MAPE: 17.0335% | Time: 53.50 seconds\n",
      "Epoch 30 | Train_Loss: 0.0157 | Valid_Loss: 0.0154 | RMSE: 0.1240 | MAPE: 17.0592% | Time: 52.88 seconds\n",
      "Epoch 31 | Train_Loss: 0.0157 | Valid_Loss: 0.0155 | RMSE: 0.1245 | MAPE: 17.3128% | Time: 53.08 seconds\n",
      "Epoch 32 | Train_Loss: 0.0157 | Valid_Loss: 0.0162 | RMSE: 0.1271 | MAPE: 17.3898% | Time: 53.95 seconds\n",
      "Epoch 33 | Train_Loss: 0.0157 | Valid_Loss: 0.0162 | RMSE: 0.1271 | MAPE: 17.2853% | Time: 53.95 seconds\n",
      "Epoch 34 | Train_Loss: 0.0157 | Valid_Loss: 0.0159 | RMSE: 0.1261 | MAPE: 17.1101% | Time: 52.99 seconds\n",
      "Epoch 35 | Train_Loss: 0.0157 | Valid_Loss: 0.0169 | RMSE: 0.1300 | MAPE: 17.4350% | Time: 52.84 seconds\n",
      "Epoch 36 | Train_Loss: 0.0156 | Valid_Loss: 0.0171 | RMSE: 0.1307 | MAPE: 17.5154% | Time: 52.85 seconds\n",
      "Epoch 37 | Train_Loss: 0.0156 | Valid_Loss: 0.0167 | RMSE: 0.1291 | MAPE: 17.3904% | Time: 53.09 seconds\n",
      "Epoch 38 | Train_Loss: 0.0156 | Valid_Loss: 0.0170 | RMSE: 0.1305 | MAPE: 17.3380% | Time: 53.52 seconds\n",
      "Epoch 39 | Train_Loss: 0.0156 | Valid_Loss: 0.0169 | RMSE: 0.1300 | MAPE: 17.2291% | Time: 53.82 seconds\n",
      "Epoch 40 | Train_Loss: 0.0156 | Valid_Loss: 0.0171 | RMSE: 0.1309 | MAPE: 17.3373% | Time: 53.29 seconds\n",
      "Epoch 41 | Train_Loss: 0.0156 | Valid_Loss: 0.0174 | RMSE: 0.1319 | MAPE: 17.3377% | Time: 52.98 seconds\n",
      "Epoch 42 | Train_Loss: 0.0155 | Valid_Loss: 0.0174 | RMSE: 0.1320 | MAPE: 17.3654% | Time: 53.40 seconds\n",
      "Epoch 43 | Train_Loss: 0.0156 | Valid_Loss: 0.0177 | RMSE: 0.1329 | MAPE: 17.4466% | Time: 53.97 seconds\n",
      "Epoch 44 | Train_Loss: 0.0156 | Valid_Loss: 0.0182 | RMSE: 0.1349 | MAPE: 17.5661% | Time: 54.62 seconds\n",
      "Epoch 45 | Train_Loss: 0.0155 | Valid_Loss: 0.0177 | RMSE: 0.1332 | MAPE: 17.3016% | Time: 53.32 seconds\n",
      "Epoch 46 | Train_Loss: 0.0155 | Valid_Loss: 0.0178 | RMSE: 0.1334 | MAPE: 17.2391% | Time: 53.80 seconds\n",
      "Epoch 47 | Train_Loss: 0.0155 | Valid_Loss: 0.0178 | RMSE: 0.1335 | MAPE: 17.3635% | Time: 53.67 seconds\n",
      "Epoch 48 | Train_Loss: 0.0155 | Valid_Loss: 0.0183 | RMSE: 0.1354 | MAPE: 17.4219% | Time: 53.40 seconds\n",
      "Epoch 49 | Train_Loss: 0.0155 | Valid_Loss: 0.0181 | RMSE: 0.1347 | MAPE: 17.1770% | Time: 53.69 seconds\n",
      "Epoch 50 | Train_Loss: 0.0155 | Valid_Loss: 0.0182 | RMSE: 0.1349 | MAPE: 17.3811% | Time: 53.12 seconds\n",
      "Epoch 51 | Train_Loss: 0.0155 | Valid_Loss: 0.0185 | RMSE: 0.1360 | MAPE: 17.3193% | Time: 53.28 seconds\n",
      "Epoch 52 | Train_Loss: 0.0155 | Valid_Loss: 0.0184 | RMSE: 0.1357 | MAPE: 17.4205% | Time: 53.57 seconds\n",
      "Epoch 53 | Train_Loss: 0.0155 | Valid_Loss: 0.0185 | RMSE: 0.1362 | MAPE: 17.1087% | Time: 53.59 seconds\n",
      "Epoch 54 | Train_Loss: 0.0154 | Valid_Loss: 0.0183 | RMSE: 0.1351 | MAPE: 17.1644% | Time: 53.46 seconds\n",
      "Epoch 55 | Train_Loss: 0.0155 | Valid_Loss: 0.0187 | RMSE: 0.1368 | MAPE: 17.4515% | Time: 53.96 seconds\n",
      "Epoch 56 | Train_Loss: 0.0155 | Valid_Loss: 0.0187 | RMSE: 0.1366 | MAPE: 17.3123% | Time: 55.63 seconds\n",
      "Epoch 57 | Train_Loss: 0.0155 | Valid_Loss: 0.0188 | RMSE: 0.1373 | MAPE: 17.3503% | Time: 54.81 seconds\n",
      "Epoch 58 | Train_Loss: 0.0155 | Valid_Loss: 0.0188 | RMSE: 0.1371 | MAPE: 17.2598% | Time: 55.68 seconds\n",
      "Epoch 59 | Train_Loss: 0.0154 | Valid_Loss: 0.0187 | RMSE: 0.1368 | MAPE: 17.2462% | Time: 55.68 seconds\n",
      "Epoch 60 | Train_Loss: 0.0154 | Valid_Loss: 0.0190 | RMSE: 0.1380 | MAPE: 17.3075% | Time: 55.43 seconds\n",
      "Epoch 61 | Train_Loss: 0.0154 | Valid_Loss: 0.0191 | RMSE: 0.1381 | MAPE: 17.3641% | Time: 56.42 seconds\n",
      "Epoch 62 | Train_Loss: 0.0154 | Valid_Loss: 0.0194 | RMSE: 0.1392 | MAPE: 17.3790% | Time: 55.62 seconds\n",
      "Epoch 63 | Train_Loss: 0.0154 | Valid_Loss: 0.0191 | RMSE: 0.1382 | MAPE: 17.3294% | Time: 54.86 seconds\n",
      "Epoch 64 | Train_Loss: 0.0154 | Valid_Loss: 0.0193 | RMSE: 0.1388 | MAPE: 17.5520% | Time: 55.22 seconds\n",
      "Epoch 65 | Train_Loss: 0.0154 | Valid_Loss: 0.0192 | RMSE: 0.1385 | MAPE: 17.3299% | Time: 55.20 seconds\n",
      "Epoch 66 | Train_Loss: 0.0153 | Valid_Loss: 0.0196 | RMSE: 0.1399 | MAPE: 17.5440% | Time: 55.60 seconds\n",
      "Epoch 67 | Train_Loss: 0.0153 | Valid_Loss: 0.0196 | RMSE: 0.1401 | MAPE: 17.5078% | Time: 55.61 seconds\n"
     ]
    }
   ],
   "source": [
    "train_regression_model(model, num_epochs, train_loader, valid_loader, device, lr)"
   ]
  },
  {
   "cell_type": "markdown",
   "id": "NFDcMxjsysHf",
   "metadata": {
    "id": "NFDcMxjsysHf"
   },
   "source": [
    "# Submisson"
   ]
  },
  {
   "cell_type": "code",
   "execution_count": null,
   "id": "64386fd0",
   "metadata": {
    "colab": {
     "base_uri": "https://localhost:8080/"
    },
    "id": "64386fd0",
    "outputId": "72098bd4-bd45-43fc-ad09-b5528ed26586"
   },
   "outputs": [],
   "source": [
    "#!gdown 1eIS3ZVhPTs3zQE91sTpRNvuDVFIyqYX0"
   ]
  },
  {
   "cell_type": "code",
   "execution_count": 138,
   "id": "efc3e1d3",
   "metadata": {
    "id": "efc3e1d3"
   },
   "outputs": [
    {
     "data": {
      "text/plain": [
       "(100000, 3, 200)"
      ]
     },
     "execution_count": 138,
     "metadata": {},
     "output_type": "execute_result"
    }
   ],
   "source": [
    "test_data = np.load(r'I:\\Хакатоны\\Цифровой прорыв Сочи\\test_dataset_test\\test\\y_smp_test.npy') #'/content/y_smp_test.npy\n",
    "test_data = np.reshape(test_data,(100000, 3, 200))\n",
    "test_data.shape"
   ]
  },
  {
   "cell_type": "code",
   "execution_count": 139,
   "id": "ba6d5a3a",
   "metadata": {},
   "outputs": [],
   "source": [
    "test_data = CustomDataset(test_data, test_data)\n",
    "batch_size = 10000\n",
    "num_workers = torch.multiprocessing.cpu_count()  # Использование всех доступных ядер\n",
    "test_loader = DataLoader(test_data, batch_size=batch_size, shuffle=False)"
   ]
  },
  {
   "cell_type": "code",
   "execution_count": 140,
   "id": "RqvzLavoypBp",
   "metadata": {
    "id": "RqvzLavoypBp"
   },
   "outputs": [
    {
     "data": {
      "application/vnd.jupyter.widget-view+json": {
       "model_id": "828022090dce4ed5a18cd8f4a3a3d9f2",
       "version_major": 2,
       "version_minor": 0
      },
      "text/plain": [
       "  0%|          | 0/10 [00:00<?, ?it/s]"
      ]
     },
     "metadata": {},
     "output_type": "display_data"
    },
    {
     "name": "stderr",
     "output_type": "stream",
     "text": [
      "C:\\Users\\user\\AppData\\Local\\Temp\\ipykernel_9120\\262521371.py:5: UserWarning: To copy construct from a tensor, it is recommended to use sourceTensor.clone().detach() or sourceTensor.clone().detach().requires_grad_(True), rather than torch.tensor(sourceTensor).\n",
      "  inputs = torch.tensor(inputs, dtype=torch.float32).to(device)\n"
     ]
    }
   ],
   "source": [
    "sub = torch.empty(1, 15, 201)\n",
    "with torch.no_grad():\n",
    "              model.eval()\n",
    "              for inputs, _ in tqdm(test_loader):\n",
    "                    inputs = torch.tensor(inputs, dtype=torch.float32).to(device)\n",
    "                    outputs = model(inputs).to('cpu')\n",
    "                    sub = torch.cat((sub, outputs), dim=0)\n"
   ]
  },
  {
   "cell_type": "code",
   "execution_count": 141,
   "id": "88995442",
   "metadata": {},
   "outputs": [],
   "source": [
    "#сохраняем веса модели\n",
    "model_CNN =  model.to('cpu')\n",
    "torch.save(model_CNN.state_dict(), 'model_CNN_CB_9.pth')"
   ]
  },
  {
   "cell_type": "code",
   "execution_count": 142,
   "id": "1mzVtd3vypK4",
   "metadata": {
    "id": "1mzVtd3vypK4"
   },
   "outputs": [
    {
     "name": "stdout",
     "output_type": "stream",
     "text": [
      "torch.Size([100000, 15, 201])\n"
     ]
    }
   ],
   "source": [
    "print(sub[1:].shape)"
   ]
  },
  {
   "cell_type": "code",
   "execution_count": 143,
   "id": "f3464a06",
   "metadata": {},
   "outputs": [],
   "source": [
    "# Переводим в numpy\n",
    "numpy_array = sub[1:].numpy()"
   ]
  },
  {
   "cell_type": "code",
   "execution_count": 144,
   "id": "5c8697fe",
   "metadata": {},
   "outputs": [
    {
     "data": {
      "application/vnd.jupyter.widget-view+json": {
       "model_id": "d78f5a06a18f4d8486067e52b770a49d",
       "version_major": 2,
       "version_minor": 0
      },
      "text/plain": [
       "  0%|          | 0/100000 [00:00<?, ?it/s]"
      ]
     },
     "metadata": {},
     "output_type": "display_data"
    },
    {
     "data": {
      "text/plain": [
       "(100000, 15, 6)"
      ]
     },
     "execution_count": 144,
     "metadata": {},
     "output_type": "execute_result"
    }
   ],
   "source": [
    "test_predictions_agregate = np.empty((100000, 15, 6))\n",
    "test_predictions_agregate[:] = np.nan\n",
    "for idx_row in tqdm(range(100000)):\n",
    "    for idx_model in range(15):\n",
    "        obj = numpy_array[idx_row, idx_model]\n",
    "        test_predictions_agregate[idx_row, idx_model] = [np.nanmean(obj), np.nanquantile(obj, 0.1), np.nanquantile(obj, 0.25), np.nanquantile(obj, 0.5), np.nanquantile(obj, 0.75), np.nanquantile(obj, 0.90)]\n",
    "test_predictions_agregate.shape"
   ]
  },
  {
   "cell_type": "code",
   "execution_count": 145,
   "id": "eb30e7db",
   "metadata": {},
   "outputs": [
    {
     "data": {
      "text/plain": [
       "array([2.46038103, 2.4290626 , 2.44198656, 2.46219182, 2.47714114,\n",
       "       2.48999   ])"
      ]
     },
     "execution_count": 145,
     "metadata": {},
     "output_type": "execute_result"
    }
   ],
   "source": [
    "test_predictions_agregate[0][1]"
   ]
  },
  {
   "cell_type": "code",
   "execution_count": 146,
   "id": "b9404d44",
   "metadata": {},
   "outputs": [],
   "source": [
    "file_path = r'C:\\Users\\user\\Downloads\\submission\\result_9.npy'\n",
    "np.save(file_path, test_predictions_agregate)"
   ]
  },
  {
   "cell_type": "code",
   "execution_count": null,
   "id": "43e91c69",
   "metadata": {},
   "outputs": [],
   "source": []
  }
 ],
 "metadata": {
  "accelerator": "GPU",
  "colab": {
   "gpuType": "T4",
   "provenance": []
  },
  "kernelspec": {
   "display_name": "Python 3 (ipykernel)",
   "language": "python",
   "name": "python3"
  },
  "language_info": {
   "codemirror_mode": {
    "name": "ipython",
    "version": 3
   },
   "file_extension": ".py",
   "mimetype": "text/x-python",
   "name": "python",
   "nbconvert_exporter": "python",
   "pygments_lexer": "ipython3",
   "version": "3.11.4"
  },
  "widgets": {
   "application/vnd.jupyter.widget-state+json": {
    "5ffec83e823f4cc2ba4135261b8141ae": {
     "model_module": "@jupyter-widgets/controls",
     "model_module_version": "1.5.0",
     "model_name": "HBoxModel",
     "state": {
      "_dom_classes": [],
      "_model_module": "@jupyter-widgets/controls",
      "_model_module_version": "1.5.0",
      "_model_name": "HBoxModel",
      "_view_count": null,
      "_view_module": "@jupyter-widgets/controls",
      "_view_module_version": "1.5.0",
      "_view_name": "HBoxView",
      "box_style": "",
      "children": [
       "IPY_MODEL_ca8f0b7e4e024abd98a8cf6e90fa3576",
       "IPY_MODEL_e8d82faa30cc47ba99df0316e457b0a7",
       "IPY_MODEL_8c9028fb223a4761a4f1ffa501629c9a"
      ],
      "layout": "IPY_MODEL_d0853086c23a4d07aa1a57bf3b42c8b1"
     }
    },
    "7ac15992f1264bbc8f59132648bfd412": {
     "model_module": "@jupyter-widgets/base",
     "model_module_version": "1.2.0",
     "model_name": "LayoutModel",
     "state": {
      "_model_module": "@jupyter-widgets/base",
      "_model_module_version": "1.2.0",
      "_model_name": "LayoutModel",
      "_view_count": null,
      "_view_module": "@jupyter-widgets/base",
      "_view_module_version": "1.2.0",
      "_view_name": "LayoutView",
      "align_content": null,
      "align_items": null,
      "align_self": null,
      "border": null,
      "bottom": null,
      "display": null,
      "flex": null,
      "flex_flow": null,
      "grid_area": null,
      "grid_auto_columns": null,
      "grid_auto_flow": null,
      "grid_auto_rows": null,
      "grid_column": null,
      "grid_gap": null,
      "grid_row": null,
      "grid_template_areas": null,
      "grid_template_columns": null,
      "grid_template_rows": null,
      "height": null,
      "justify_content": null,
      "justify_items": null,
      "left": null,
      "margin": null,
      "max_height": null,
      "max_width": null,
      "min_height": null,
      "min_width": null,
      "object_fit": null,
      "object_position": null,
      "order": null,
      "overflow": null,
      "overflow_x": null,
      "overflow_y": null,
      "padding": null,
      "right": null,
      "top": null,
      "visibility": null,
      "width": null
     }
    },
    "87e4adbe3f7742e292ef9004f1e97b72": {
     "model_module": "@jupyter-widgets/controls",
     "model_module_version": "1.5.0",
     "model_name": "DescriptionStyleModel",
     "state": {
      "_model_module": "@jupyter-widgets/controls",
      "_model_module_version": "1.5.0",
      "_model_name": "DescriptionStyleModel",
      "_view_count": null,
      "_view_module": "@jupyter-widgets/base",
      "_view_module_version": "1.2.0",
      "_view_name": "StyleView",
      "description_width": ""
     }
    },
    "8c9028fb223a4761a4f1ffa501629c9a": {
     "model_module": "@jupyter-widgets/controls",
     "model_module_version": "1.5.0",
     "model_name": "HTMLModel",
     "state": {
      "_dom_classes": [],
      "_model_module": "@jupyter-widgets/controls",
      "_model_module_version": "1.5.0",
      "_model_name": "HTMLModel",
      "_view_count": null,
      "_view_module": "@jupyter-widgets/controls",
      "_view_module_version": "1.5.0",
      "_view_name": "HTMLView",
      "description": "",
      "description_tooltip": null,
      "layout": "IPY_MODEL_7ac15992f1264bbc8f59132648bfd412",
      "placeholder": "​",
      "style": "IPY_MODEL_87e4adbe3f7742e292ef9004f1e97b72",
      "value": " 1000000/1000000 [10:17&lt;00:00, 1342.91it/s]"
     }
    },
    "989f2f69072148708659f7bdf00c0d73": {
     "model_module": "@jupyter-widgets/controls",
     "model_module_version": "1.5.0",
     "model_name": "ProgressStyleModel",
     "state": {
      "_model_module": "@jupyter-widgets/controls",
      "_model_module_version": "1.5.0",
      "_model_name": "ProgressStyleModel",
      "_view_count": null,
      "_view_module": "@jupyter-widgets/base",
      "_view_module_version": "1.2.0",
      "_view_name": "StyleView",
      "bar_color": null,
      "description_width": ""
     }
    },
    "ca8f0b7e4e024abd98a8cf6e90fa3576": {
     "model_module": "@jupyter-widgets/controls",
     "model_module_version": "1.5.0",
     "model_name": "HTMLModel",
     "state": {
      "_dom_classes": [],
      "_model_module": "@jupyter-widgets/controls",
      "_model_module_version": "1.5.0",
      "_model_name": "HTMLModel",
      "_view_count": null,
      "_view_module": "@jupyter-widgets/controls",
      "_view_module_version": "1.5.0",
      "_view_name": "HTMLView",
      "description": "",
      "description_tooltip": null,
      "layout": "IPY_MODEL_d8561ddbfc524107bff252a310286955",
      "placeholder": "​",
      "style": "IPY_MODEL_caef996c12a749f5a6abcde3194e2d30",
      "value": "100%"
     }
    },
    "caef996c12a749f5a6abcde3194e2d30": {
     "model_module": "@jupyter-widgets/controls",
     "model_module_version": "1.5.0",
     "model_name": "DescriptionStyleModel",
     "state": {
      "_model_module": "@jupyter-widgets/controls",
      "_model_module_version": "1.5.0",
      "_model_name": "DescriptionStyleModel",
      "_view_count": null,
      "_view_module": "@jupyter-widgets/base",
      "_view_module_version": "1.2.0",
      "_view_name": "StyleView",
      "description_width": ""
     }
    },
    "d0853086c23a4d07aa1a57bf3b42c8b1": {
     "model_module": "@jupyter-widgets/base",
     "model_module_version": "1.2.0",
     "model_name": "LayoutModel",
     "state": {
      "_model_module": "@jupyter-widgets/base",
      "_model_module_version": "1.2.0",
      "_model_name": "LayoutModel",
      "_view_count": null,
      "_view_module": "@jupyter-widgets/base",
      "_view_module_version": "1.2.0",
      "_view_name": "LayoutView",
      "align_content": null,
      "align_items": null,
      "align_self": null,
      "border": null,
      "bottom": null,
      "display": null,
      "flex": null,
      "flex_flow": null,
      "grid_area": null,
      "grid_auto_columns": null,
      "grid_auto_flow": null,
      "grid_auto_rows": null,
      "grid_column": null,
      "grid_gap": null,
      "grid_row": null,
      "grid_template_areas": null,
      "grid_template_columns": null,
      "grid_template_rows": null,
      "height": null,
      "justify_content": null,
      "justify_items": null,
      "left": null,
      "margin": null,
      "max_height": null,
      "max_width": null,
      "min_height": null,
      "min_width": null,
      "object_fit": null,
      "object_position": null,
      "order": null,
      "overflow": null,
      "overflow_x": null,
      "overflow_y": null,
      "padding": null,
      "right": null,
      "top": null,
      "visibility": null,
      "width": null
     }
    },
    "d8561ddbfc524107bff252a310286955": {
     "model_module": "@jupyter-widgets/base",
     "model_module_version": "1.2.0",
     "model_name": "LayoutModel",
     "state": {
      "_model_module": "@jupyter-widgets/base",
      "_model_module_version": "1.2.0",
      "_model_name": "LayoutModel",
      "_view_count": null,
      "_view_module": "@jupyter-widgets/base",
      "_view_module_version": "1.2.0",
      "_view_name": "LayoutView",
      "align_content": null,
      "align_items": null,
      "align_self": null,
      "border": null,
      "bottom": null,
      "display": null,
      "flex": null,
      "flex_flow": null,
      "grid_area": null,
      "grid_auto_columns": null,
      "grid_auto_flow": null,
      "grid_auto_rows": null,
      "grid_column": null,
      "grid_gap": null,
      "grid_row": null,
      "grid_template_areas": null,
      "grid_template_columns": null,
      "grid_template_rows": null,
      "height": null,
      "justify_content": null,
      "justify_items": null,
      "left": null,
      "margin": null,
      "max_height": null,
      "max_width": null,
      "min_height": null,
      "min_width": null,
      "object_fit": null,
      "object_position": null,
      "order": null,
      "overflow": null,
      "overflow_x": null,
      "overflow_y": null,
      "padding": null,
      "right": null,
      "top": null,
      "visibility": null,
      "width": null
     }
    },
    "e8d82faa30cc47ba99df0316e457b0a7": {
     "model_module": "@jupyter-widgets/controls",
     "model_module_version": "1.5.0",
     "model_name": "FloatProgressModel",
     "state": {
      "_dom_classes": [],
      "_model_module": "@jupyter-widgets/controls",
      "_model_module_version": "1.5.0",
      "_model_name": "FloatProgressModel",
      "_view_count": null,
      "_view_module": "@jupyter-widgets/controls",
      "_view_module_version": "1.5.0",
      "_view_name": "ProgressView",
      "bar_style": "success",
      "description": "",
      "description_tooltip": null,
      "layout": "IPY_MODEL_f8baabcfe5ee4b1c9ccb56bfc053864c",
      "max": 1000000,
      "min": 0,
      "orientation": "horizontal",
      "style": "IPY_MODEL_989f2f69072148708659f7bdf00c0d73",
      "value": 1000000
     }
    },
    "f8baabcfe5ee4b1c9ccb56bfc053864c": {
     "model_module": "@jupyter-widgets/base",
     "model_module_version": "1.2.0",
     "model_name": "LayoutModel",
     "state": {
      "_model_module": "@jupyter-widgets/base",
      "_model_module_version": "1.2.0",
      "_model_name": "LayoutModel",
      "_view_count": null,
      "_view_module": "@jupyter-widgets/base",
      "_view_module_version": "1.2.0",
      "_view_name": "LayoutView",
      "align_content": null,
      "align_items": null,
      "align_self": null,
      "border": null,
      "bottom": null,
      "display": null,
      "flex": null,
      "flex_flow": null,
      "grid_area": null,
      "grid_auto_columns": null,
      "grid_auto_flow": null,
      "grid_auto_rows": null,
      "grid_column": null,
      "grid_gap": null,
      "grid_row": null,
      "grid_template_areas": null,
      "grid_template_columns": null,
      "grid_template_rows": null,
      "height": null,
      "justify_content": null,
      "justify_items": null,
      "left": null,
      "margin": null,
      "max_height": null,
      "max_width": null,
      "min_height": null,
      "min_width": null,
      "object_fit": null,
      "object_position": null,
      "order": null,
      "overflow": null,
      "overflow_x": null,
      "overflow_y": null,
      "padding": null,
      "right": null,
      "top": null,
      "visibility": null,
      "width": null
     }
    }
   }
  }
 },
 "nbformat": 4,
 "nbformat_minor": 5
}
